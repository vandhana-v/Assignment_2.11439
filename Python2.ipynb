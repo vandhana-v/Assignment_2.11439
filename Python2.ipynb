{
 "cells": [
  {
   "cell_type": "code",
   "execution_count": 46,
   "metadata": {},
   "outputs": [
    {
     "name": "stdout",
     "output_type": "stream",
     "text": [
      "Sum of list using myreduce() function: 21\n"
     ]
    }
   ],
   "source": [
    "''' Task 1:\n",
    "1.1 Write a Python Program to implement your own myreduce() function which works exactly like Python's built-in function reduce() '''\n",
    "\n",
    "input_list= [1,2,3,4,5,6]\n",
    "\n",
    "def sum_list(a, b): \n",
    "    return a+b\n",
    "\n",
    "def myreduce(red_function, input_list):\n",
    "    \n",
    "    total_sum = input_list[0]\n",
    "    \n",
    "    for x in input_list[1:]:\n",
    "        total_sum = red_function(total_sum, x)\n",
    "        \n",
    "    return total_sum\n",
    "    \n",
    "print(\"Sum of list using myreduce() function: %d\" % myreduce(sum_list, input_list))\n",
    "      "
   ]
  },
  {
   "cell_type": "code",
   "execution_count": 50,
   "metadata": {},
   "outputs": [
    {
     "name": "stdout",
     "output_type": "stream",
     "text": [
      "Even numbers filtered using myfilter() function: [2, 10, 90, 88, 1000, 2528]\n"
     ]
    }
   ],
   "source": [
    "'''1.2 Write a Python program to implement your own myfilter() function which works exactly like Python's built-in function filter() \n",
    " '''\n",
    "\n",
    "input_list = [1,2,10,45,90,77,103,88,1000,2528]\n",
    "output_list =[]\n",
    "\n",
    "def even_check(num):\n",
    "        return num % 2 == 0\n",
    "\n",
    "def myfilter(filter_function, input_list):\n",
    "    \n",
    "    for x in input_list:\n",
    "        if(even_check(x)):\n",
    "            output_list.append(x)\n",
    "            \n",
    "    return output_list\n",
    "        \n",
    "print(\"Even numbers filtered using myfilter() function: %s\" % myfilter(even_check, input_list))"
   ]
  },
  {
   "cell_type": "code",
   "execution_count": 1,
   "metadata": {},
   "outputs": [
    {
     "name": "stdout",
     "output_type": "stream",
     "text": [
      "['A', 'C', 'A', 'D', 'G', 'I', 'L', 'D']\n"
     ]
    }
   ],
   "source": [
    "'''2.Write List comprehensions to produce the following Lists \n",
    "  ['A', 'C', 'A', 'D', 'G', 'I', ’L’, ‘ D’]'''\n",
    "\n",
    "input_list_1='ACADGILD'\n",
    "output_list_1 = [x for x in data_string]\n",
    "print(output_list_1)"
   ]
  },
  {
   "cell_type": "code",
   "execution_count": 2,
   "metadata": {},
   "outputs": [
    {
     "data": {
      "text/plain": [
       "['x', 'xx', 'xxx', 'xxxx', 'y', 'yy', 'yyy', 'yyyy', 'z', 'zz', 'zzz', 'zzzz']"
      ]
     },
     "execution_count": 2,
     "metadata": {},
     "output_type": "execute_result"
    }
   ],
   "source": [
    "# ['x', 'xx', 'xxx', 'xxxx', 'y', 'yy', 'yyy', 'yyyy', 'z', 'zz', 'zzz', 'zzzz']\n",
    "input_list_2 =['x','y','z']\n",
    "output_list_2 = [i*j for i in input_list_2 for j in range(1,5)]\n",
    "output_list_2"
   ]
  },
  {
   "cell_type": "code",
   "execution_count": 3,
   "metadata": {},
   "outputs": [
    {
     "data": {
      "text/plain": [
       "['x', 'y', 'z', 'xx', 'yy', 'zz', 'xxx', 'yyy', 'zzz', 'xxxx', 'yyyy', 'zzzz']"
      ]
     },
     "execution_count": 3,
     "metadata": {},
     "output_type": "execute_result"
    }
   ],
   "source": [
    "# ['x', 'y', 'z', 'xx', 'yy', 'zz', 'xx', 'yy', 'zz', 'xxxx', 'yyyy', 'zzzz'] \n",
    "input_list_3 =['x','y','z']\n",
    "output_list_3 = [i*j for j in range(1,5) for i in  input_list_3]\n",
    "output_list_3"
   ]
  },
  {
   "cell_type": "code",
   "execution_count": 6,
   "metadata": {},
   "outputs": [
    {
     "data": {
      "text/plain": [
       "[[2], [3], [4], [3], [4], [5], [4], [5], [6]]"
      ]
     },
     "execution_count": 6,
     "metadata": {},
     "output_type": "execute_result"
    }
   ],
   "source": [
    "# [[2], [3], [4], [3], [4], [5], [4], [5], [6]] \n",
    "input_list_4 = [2,3,4]\n",
    "output_list_4 = [[i+j] for i in input_list_4 for j in range(0,3)]\n",
    "output_list_4"
   ]
  },
  {
   "cell_type": "code",
   "execution_count": 7,
   "metadata": {},
   "outputs": [
    {
     "name": "stdout",
     "output_type": "stream",
     "text": [
      "[[2, 3, 4, 5], [3, 4, 5, 6], [4, 5, 6, 7], [5, 6, 7, 8]]\n"
     ]
    }
   ],
   "source": [
    " #[[2, 3, 4, 5], [3, 4, 5, 6], [4, 5, 6, 7], [5, 6, 7, 8]]\n",
    "input_list_5 = [2,3,4,5]\n",
    "output_list_5 =[[i+j for j in range(0,4)] for i in input_list_5]\n",
    "print(output_list_5)"
   ]
  },
  {
   "cell_type": "code",
   "execution_count": 8,
   "metadata": {},
   "outputs": [
    {
     "name": "stdout",
     "output_type": "stream",
     "text": [
      "[(1, 1), (2, 1), (3, 1), (1, 2), (2, 2), (3, 2), (1, 3), (2, 3), (3, 3)]\n"
     ]
    }
   ],
   "source": [
    "# [(1, 1), (2, 1), (3, 1), (1, 2), (2, 2), (3, 2), (1, 3), (2, 3), (3, 3)] \n",
    "output_list_6 = [(y,x) for x in range(1,4) for y in range(1,4)]\n",
    "print(output_list_6)"
   ]
  },
  {
   "cell_type": "code",
   "execution_count": 12,
   "metadata": {},
   "outputs": [
    {
     "name": "stdout",
     "output_type": "stream",
     "text": [
      "Longest word is: MachineLearning\n"
     ]
    }
   ],
   "source": [
    "#3.Implement a function longestWord() that takes a list of words and returns the longest one. \n",
    "from functools import reduce\n",
    "words=['DataScience','MachineLearning','Python', 'NLP', 'NeuralNetworks']\n",
    "\n",
    "def longestWord(words_list):\n",
    "    return reduce( (lambda a,b:a if len(a) > len(b) else b), words_list )\n",
    "\n",
    "print(\"Longest word is: %s\" % longestWord(words))"
   ]
  },
  {
   "cell_type": "code",
   "execution_count": 17,
   "metadata": {},
   "outputs": [
    {
     "name": "stdout",
     "output_type": "stream",
     "text": [
      "Enter side a: 30\n",
      "Enter side b: 18\n",
      "Enter side c: 24\n",
      "Area of the triangle: 216.000000\n"
     ]
    }
   ],
   "source": [
    "'''Task 2: \n",
    " 1.1  Write a Python Program(with class concepts) to find the area of the triangle using the below formula. \n",
    "area = (s*(s-a)*(s-b)*(s-c)) ** 0.5 \n",
    "Function to take the length of the sides of triangle from user should be defined in the parent class and function to calculate the area should be defined in subclass. \n",
    " '''\n",
    "\n",
    "#Parent class\n",
    "class Triangle:\n",
    "    \n",
    "    #Initialisation function used to take length of sides from user\n",
    "    def __init__(self):\n",
    "        side_A = input(\"Enter side a: \")\n",
    "        side_B = input(\"Enter side b: \")\n",
    "        side_C = input(\"Enter side c: \")\n",
    "        self.side_a = int(side_A)\n",
    "        self.side_b = int(side_B)\n",
    "        self.side_c = int(side_C)\n",
    "        \n",
    "    def __str__(self):\n",
    "        return \"%d %d %d are the sides of the triangle\"%(self.side_a, self.side_b, self.side_c)\n",
    "    \n",
    "#Child class\n",
    "class MyTriangle(Triangle):\n",
    "    \n",
    "    def __init__(self, *args, **kwargs):\n",
    "        super(MyTriangle, self).__init__(*args, **kwargs)\n",
    "     \n",
    "    #Function to calculate area\n",
    "    def calculate_area(self):\n",
    "        s = (self.side_a + self.side_b + self.side_c) / 2\n",
    "        return ((s*(s-self.side_a)*(s-self.side_b)*(s-self.side_c)) ** 0.5)\n",
    "        \n",
    "\n",
    "\n",
    "triangle = MyTriangle()\n",
    "print(\"Area of the triangle: %f\" %(triangle.calculate_area()))\n"
   ]
  },
  {
   "cell_type": "code",
   "execution_count": 62,
   "metadata": {},
   "outputs": [
    {
     "name": "stdout",
     "output_type": "stream",
     "text": [
      "Please enter integer n value: 14\n",
      "List of words longer than 14 are: ['MachineLearning']\n"
     ]
    }
   ],
   "source": [
    "'''1.2 \n",
    " Write a function filter_long_words() that takes a list of words and an integer n and returns the list of words that are longer than n. '''\n",
    "\n",
    "words_list =['DataScience','MachineLearning','Python', 'NLP', 'NeuralNetworks']\n",
    "\n",
    "def filter_long_words(words_list, n):\n",
    "    return list(filter(lambda x: len(x)>n, words_list))\n",
    "\n",
    "n = input(\"Please enter integer n value: \")\n",
    "print(\"List of words longer than %d are: %s\" % (int(n),filter_long_words( words_list, int(n))))\n"
   ]
  },
  {
   "cell_type": "code",
   "execution_count": 63,
   "metadata": {},
   "outputs": [
    {
     "name": "stdout",
     "output_type": "stream",
     "text": [
      "Mapped list of old list ['ab', 'cde', 'erty']: [2, 3, 4]\n"
     ]
    }
   ],
   "source": [
    "'''2.1 \n",
    " Write a Python program using function concept that maps  list of words into a list of integers representing the lengths of the corresponding words​.'''\n",
    "\n",
    "new_list = [ 'ab','cde','erty']\n",
    "\n",
    "def map_wordsToInteger(new_list):\n",
    "    return list(map(lambda x: len(x), new_list))\n",
    "\n",
    "print(\"Mapped list of old list %s: %s\" % (new_list, map_wordsToInteger(new_list)))"
   ]
  },
  {
   "cell_type": "code",
   "execution_count": 36,
   "metadata": {},
   "outputs": [
    {
     "name": "stdout",
     "output_type": "stream",
     "text": [
      "Please enter the character: o\n",
      "o is a vowel\n"
     ]
    }
   ],
   "source": [
    "'''2.2 Write a Python function which takes a character (i.e. a string of length 1) and returns True if it is a vowel, False otherwise.'''\n",
    "\n",
    "vowel_list = ['a','e','i','o','u']\n",
    "def check_vowel(letter):\n",
    "    if letter in vowel_list:\n",
    "        return True\n",
    "    else:\n",
    "        return False\n",
    "    \n",
    "character = input('Please enter the character: ')\n",
    "if(len(character) == 1):\n",
    "    if(check_vowel(character)):\n",
    "        print(\"%c is a vowel\"%(character))\n",
    "    else:\n",
    "        print(\"%c is not a vowel\"%(character))\n",
    "\n",
    "else:\n",
    "    print('Invalid input...Enter string of length 1 only')\n"
   ]
  },
  {
   "cell_type": "code",
   "execution_count": null,
   "metadata": {},
   "outputs": [],
   "source": []
  },
  {
   "cell_type": "code",
   "execution_count": null,
   "metadata": {},
   "outputs": [],
   "source": []
  }
 ],
 "metadata": {
  "kernelspec": {
   "display_name": "Python 3",
   "language": "python",
   "name": "python3"
  },
  "language_info": {
   "codemirror_mode": {
    "name": "ipython",
    "version": 3
   },
   "file_extension": ".py",
   "mimetype": "text/x-python",
   "name": "python",
   "nbconvert_exporter": "python",
   "pygments_lexer": "ipython3",
   "version": "3.7.0"
  }
 },
 "nbformat": 4,
 "nbformat_minor": 2
}
